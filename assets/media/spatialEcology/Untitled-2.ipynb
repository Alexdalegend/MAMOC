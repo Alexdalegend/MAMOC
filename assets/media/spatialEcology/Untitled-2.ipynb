{
 "cells": [
  {
   "cell_type": "code",
   "execution_count": 5,
   "metadata": {},
   "outputs": [],
   "source": [
    "import cv2\n",
    "import numpy as np\n",
    "\n",
    "# Function to change white pixels to a new color\n",
    "def change_white_pixels(frame, new_color):\n",
    "    # Define the range for white color\n",
    "    white_lower = np.array([200, 200, 200], dtype=\"uint8\")\n",
    "    white_upper = np.array([255, 255, 255], dtype=\"uint8\")\n",
    "\n",
    "    # Find all pixels in the white range\n",
    "    white_mask = cv2.inRange(frame, white_lower, white_upper)\n",
    "\n",
    "    # Change white pixels to the new color\n",
    "    frame[white_mask > 0] = new_color\n",
    "\n",
    "    return frame\n",
    "\n",
    "# Load the video\n",
    "cap = cv2.VideoCapture('LotkaVolterra3.mp4')\n",
    "\n",
    "# Get video properties for output\n",
    "fourcc = cv2.VideoWriter_fourcc(*'mp4v')\n",
    "fps = cap.get(cv2.CAP_PROP_FPS)\n",
    "width, height = int(cap.get(cv2.CAP_PROP_FRAME_WIDTH)), int(cap.get(cv2.CAP_PROP_FRAME_HEIGHT))\n",
    "out = cv2.VideoWriter('alteredLotkaVolterra3.mp4', fourcc, fps, (width, height))\n",
    "\n",
    "# Process each frame\n",
    "while True:\n",
    "    ret, frame = cap.read()\n",
    "    if not ret:\n",
    "        break\n",
    "\n",
    "    # Change white pixels to a new color (e.g., red)\n",
    "    new_frame = change_white_pixels(frame, [30,30,30])\n",
    "\n",
    "    # Write the frame to the output video\n",
    "    out.write(new_frame)\n",
    "\n",
    "# Release resources\n",
    "cap.release()\n",
    "out.release()\n",
    "cv2.destroyAllWindows()\n"
   ]
  }
 ],
 "metadata": {
  "kernelspec": {
   "display_name": "Python 3",
   "language": "python",
   "name": "python3"
  },
  "language_info": {
   "codemirror_mode": {
    "name": "ipython",
    "version": 3
   },
   "file_extension": ".py",
   "mimetype": "text/x-python",
   "name": "python",
   "nbconvert_exporter": "python",
   "pygments_lexer": "ipython3",
   "version": "3.11.6"
  }
 },
 "nbformat": 4,
 "nbformat_minor": 2
}
